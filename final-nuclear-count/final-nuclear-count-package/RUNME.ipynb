{
 "cells": [
  {
   "cell_type": "code",
   "execution_count": null,
   "metadata": {},
   "outputs": [],
   "source": [
    "# Import the necessary functions.\n",
    "from final_nuclear_count import *\n",
    "\n",
    "# A function to allow the user to select the folder containing the data.\n",
    "# Function inputs args: None. \n",
    "# Function output 1: The path of that the folder selected by the user. \n",
    "directory = folder_selection_dialog()\n",
    "\n",
    "# A function to extract, condense and save the final number of nuclei per timepoint. \n",
    "# Function input arg 1: directory (string) --> The directory to the folder containing the .xlsx data.\n",
    "# Function output 1: A .csv (saved to 'directory') containing the summarised information. \n",
    "get_final_nuclei(directory)"
   ]
  }
 ],
 "metadata": {
  "kernelspec": {
   "display_name": "Python 3",
   "language": "python",
   "name": "python3"
  },
  "language_info": {
   "codemirror_mode": {
    "name": "ipython",
    "version": 3
   },
   "file_extension": ".py",
   "mimetype": "text/x-python",
   "name": "python",
   "nbconvert_exporter": "python",
   "pygments_lexer": "ipython3",
   "version": "3.7.9"
  }
 },
 "nbformat": 4,
 "nbformat_minor": 4
}
