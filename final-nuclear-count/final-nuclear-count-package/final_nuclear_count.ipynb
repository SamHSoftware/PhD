{
 "cells": [
  {
   "cell_type": "code",
   "execution_count": null,
   "metadata": {},
   "outputs": [],
   "source": [
    "from tkinter import *\n",
    "from tkinter import filedialog\n",
    "\n",
    "# A function to allow the user to select the folder containing the data.\n",
    "# Function inputs args: None. \n",
    "# Function output 1: The path of that the folder selected by the user. \n",
    "def folder_selection_dialog():\n",
    "    root = Tk()\n",
    "    root.title('Please select the directory containing the .xlsx files')\n",
    "    root.filename = filedialog.askdirectory(initialdir=\"/\", title=\"Select A Folder\")\n",
    "    directory = root.filename\n",
    "    root.destroy()\n",
    "\n",
    "    return directory"
   ]
  },
  {
   "cell_type": "code",
   "execution_count": null,
   "metadata": {},
   "outputs": [],
   "source": [
    "import os \n",
    "import pandas as pd\n",
    "import numpy as np\n",
    "\n",
    "# A function to extract, condense and save the relevant data. \n",
    "# Function input arg 1: directory (string) --> The directory to the folder containing the .xlsx data.\n",
    "# Function output 1: ['DataFrame object] --> Contains a 1D array of the final number of nuclei per .xlsx file.\n",
    "def get_final_nuclei(directory):\n",
    "     \n",
    "    # Get a list of the .xlsx files. \n",
    "    files = [file for file in os.listdir(directory) if file.endswith('.xlsx')]\n",
    "    \n",
    "    # Get the processed data folder. \n",
    "    processed_data_directory = os.path.join(directory,'Processed Data')\n",
    "    processed_data_file = [file for file in os.listdir(processed_data_directory) if file.endswith('.csv')][0]\n",
    "    processed_data_file = os.path.join(processed_data_directory, processed_data_file)\n",
    "    \n",
    "    # Get the list of files we need to process from the previous folder. \n",
    "    files_to_analyse = pd.read_csv(processed_data_file).iloc[:,14]\n",
    "    \n",
    "    # Create a list to hold the data. \n",
    "    df = []\n",
    "    \n",
    "    # Loop through the individual .xlsx files and extract the 'red' information. \n",
    "    for t in range(len(files_to_analyse)):\n",
    "\n",
    "        # Construct the file path. \n",
    "        file_t = os.path.join(directory, files_to_analyse[t])\n",
    "        \n",
    "        # Load in the .xlsx data. \n",
    "        data = pd.read_excel(file_t, index_col=None)\n",
    "    \n",
    "        # Add the number of nucleai at the last timepoit to our list. \n",
    "        nuclei = data.iloc[-1,5]\n",
    "        nuclei = np.array(nuclei).tolist()\n",
    "        df.append(nuclei)\n",
    "\n",
    "    # Convert the list to a pandas dataframe. \n",
    "    df = pd.DataFrame(df)\n",
    "    return df \n",
    "\n",
    "    # Save the DataFrame to a .csv file. \n",
    "    new_file_name = os.path.join(directory, 'final_nuclear_numbers.csv')\n",
    "    df.to_csv(new_file_name, index=False)\n",
    "    \n",
    "    # Confirm the code is done. \n",
    "    print(\"Process complete. Your data has been saved (as 'final_nuclear_numbers.csv') within the directory you initially selected.\")"
   ]
  }
 ],
 "metadata": {
  "kernelspec": {
   "display_name": "Python 3",
   "language": "python",
   "name": "python3"
  },
  "language_info": {
   "codemirror_mode": {
    "name": "ipython",
    "version": 3
   },
   "file_extension": ".py",
   "mimetype": "text/x-python",
   "name": "python",
   "nbconvert_exporter": "python",
   "pygments_lexer": "ipython3",
   "version": "3.7.9"
  }
 },
 "nbformat": 4,
 "nbformat_minor": 4
}
