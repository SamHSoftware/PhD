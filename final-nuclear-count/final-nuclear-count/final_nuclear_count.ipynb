{
 "cells": [
  {
   "cell_type": "code",
   "execution_count": null,
   "metadata": {},
   "outputs": [],
   "source": [
    "from tkinter import *\n",
    "from tkinter import filedialog\n",
    "\n",
    "# A function to allow the user to select the folder containing the data.\n",
    "# Function inputs args: None. \n",
    "# Function output 1: The path of that the folder selected by the user. \n",
    "def folder_selection_dialog():\n",
    "    root = Tk()\n",
    "    root.title('Please select the directory containing the .xlsx files')\n",
    "    root.filename = filedialog.askdirectory(initialdir=\"/\", title=\"Select A Folder\")\n",
    "    directory = root.filename\n",
    "    root.destroy()\n",
    "\n",
    "    return directory"
   ]
  },
  {
   "cell_type": "code",
   "execution_count": null,
   "metadata": {},
   "outputs": [],
   "source": [
    "import os \n",
    "import pandas as pd\n",
    "import numpy as np\n",
    "\n",
    "# A function to extract and condense the relevant data. \n",
    "# Function input arg 1: directory (string) --> The directory to the folder containing the .xlsx data.\n",
    "# Funciton output 1: df --> The pandas dataframe containing the training information.\n",
    "def get_final_nuclei(directory):\n",
    "     \n",
    "    # Get a list of the .xlsx files. \n",
    "    files = [file for file in os.listdir(directory) if file.endswith('xlsx')]\n",
    "    \n",
    "    # Create a list to hold the data. \n",
    "    df = []\n",
    "\n",
    "    # Loop through the individual .xlsx files and extract the 'red' information. \n",
    "    for t in range(len(files)):\n",
    "\n",
    "        # Construct the file path. \n",
    "        file_t = os.path.join(directory, files[t])\n",
    "        \n",
    "        # Load in the .xlsx data. \n",
    "        data = pd.read_excel(file_t, index_col=None)\n",
    "    \n",
    "        # Add the number of nucleai at the last timepoit to our list. \n",
    "        nuclei = data.iloc[-1,5]\n",
    "        nuclei = np.array(nuclei).tolist()\n",
    "        "
   ]
  }
 ],
 "metadata": {
  "kernelspec": {
   "display_name": "Python 3",
   "language": "python",
   "name": "python3"
  },
  "language_info": {
   "codemirror_mode": {
    "name": "ipython",
    "version": 3
   },
   "file_extension": ".py",
   "mimetype": "text/x-python",
   "name": "python",
   "nbconvert_exporter": "python",
   "pygments_lexer": "ipython3",
   "version": "3.7.9"
  }
 },
 "nbformat": 4,
 "nbformat_minor": 4
}
