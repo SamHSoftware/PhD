{
 "cells": [
  {
   "cell_type": "code",
   "execution_count": null,
   "metadata": {},
   "outputs": [],
   "source": [
    "# Import the necessary packages and modules. \n",
    "import os\n",
    "current_directory = os.getcwd()\n",
    "module_directory = current_directory.replace('tests', 'final-nuclear-count-package')\n",
    "import sys\n",
    "sys.path.insert(0, module_directory)\n",
    "from final_nuclear_count import *\n",
    "\n",
    "# A function to test the final_nuclear_count module. \n",
    "# Function input arg 1: none. \n",
    "# Function output 1: An automated print message confirming the success of the unit testing. \n",
    "def test_get_final_nuclei():\n",
    "    \n",
    "    "
   ]
  }
 ],
 "metadata": {
  "kernelspec": {
   "display_name": "Python 3",
   "language": "python",
   "name": "python3"
  },
  "language_info": {
   "codemirror_mode": {
    "name": "ipython",
    "version": 3
   },
   "file_extension": ".py",
   "mimetype": "text/x-python",
   "name": "python",
   "nbconvert_exporter": "python",
   "pygments_lexer": "ipython3",
   "version": "3.7.9"
  }
 },
 "nbformat": 4,
 "nbformat_minor": 4
}
