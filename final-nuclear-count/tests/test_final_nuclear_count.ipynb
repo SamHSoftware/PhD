{
 "cells": [
  {
   "cell_type": "code",
   "execution_count": null,
   "metadata": {},
   "outputs": [],
   "source": [
    "# Import the necessary packages and modules. \n",
    "import os\n",
    "current_directory = os.getcwd()\n",
    "module_directory = current_directory.replace('tests', 'final-nuclear-count-package')\n",
    "import sys\n",
    "sys.path.insert(0, module_directory)\n",
    "from final_nuclear_count import get_final_nuclei\n",
    "\n",
    "# A function to test the final_nuclear_count module. \n",
    "# Function input arg 1: none. \n",
    "# Function output 1: An automated print message confirming the success of the unit testing. \n",
    "def test_get_final_nuclei():\n",
    "    \n",
    "    # Deduce the test data directory. \n",
    "    data_directory = current_directory.replace('tests', 'data')\n",
    "    \n",
    "    # Run the module function to get an output we can unit test against expected outputs. \n",
    "    save_plot = False\n",
    "    test_df = get_final_nuclei(data_directory, save_plot)\n",
    "    \n",
    "    # Assertion error 1: Check to make sure that the .xlsx files are properly filtered. \n",
    "    assert test_df.shape[0] == 2, 'get_final_nuclei incorrectly analysed all 3 files, as opposed to the two listed in the AnalysingWaves file.'\n",
    "    \n",
    "    # Assertion error 2: Ensure that the logged numbers of nuclei are correct. \n",
    "    assert (test_df.iloc[0,0] == 190) & (test_df.iloc[1,0] == 198), 'get_final_nuclei logged the incorrect final numbers of nuclei for the two files.'\n",
    "    \n",
    "    # Print the completion of the unit testing. \n",
    "    print('Unit testing complete, no errors detected.')\n",
    "\n",
    "# Run the unit testing function. \n",
    "test_get_final_nuclei()"
   ]
  }
 ],
 "metadata": {
  "kernelspec": {
   "display_name": "Python 3",
   "language": "python",
   "name": "python3"
  },
  "language_info": {
   "codemirror_mode": {
    "name": "ipython",
    "version": 3
   },
   "file_extension": ".py",
   "mimetype": "text/x-python",
   "name": "python",
   "nbconvert_exporter": "python",
   "pygments_lexer": "ipython3",
   "version": "3.7.9"
  }
 },
 "nbformat": 4,
 "nbformat_minor": 4
}
