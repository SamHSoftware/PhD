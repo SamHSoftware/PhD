{
 "cells": [
  {
   "cell_type": "code",
   "execution_count": null,
   "metadata": {},
   "outputs": [],
   "source": [
    "# Import the necessary packages and modules. \n",
    "import os\n",
    "import pandas as pd\n",
    "\n",
    "\n",
    "# A function to unit test the data filtering module against example input and example output data. \n",
    "def test_filter_classes(): \n",
    "    \n",
    "    # Load in the example input data. \n",
    "    current_directory = os.getcwd()\n",
    "    example_input_path = current_directory.replace('tests', os.path.join('data','example_input.csv'))\n",
    "    example_input = pd.read_csv(example_input_path, dtype=str)\n",
    "    \n",
    "    "
   ]
  }
 ],
 "metadata": {
  "kernelspec": {
   "display_name": "Python 3",
   "language": "python",
   "name": "python3"
  },
  "language_info": {
   "codemirror_mode": {
    "name": "ipython",
    "version": 3
   },
   "file_extension": ".py",
   "mimetype": "text/x-python",
   "name": "python",
   "nbconvert_exporter": "python",
   "pygments_lexer": "ipython3",
   "version": "3.7.9"
  }
 },
 "nbformat": 4,
 "nbformat_minor": 4
}
