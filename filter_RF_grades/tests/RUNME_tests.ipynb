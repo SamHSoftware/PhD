{
 "cells": [
  {
   "cell_type": "code",
   "execution_count": null,
   "metadata": {},
   "outputs": [],
   "source": [
    "# Import the necessary packages and modules. \n",
    "import os\n",
    "import pandas as pd\n",
    "\n",
    "\n",
    "# A function to unit test the data filtering module against example input and example output data. \n",
    "def test_filter_classes(): \n",
    "    \n",
    "    # Load in the example input data. \n",
    "    current_directory = os.getcwd()\n",
    "    example_input_path = current_directory.replace('tests', os.path.join('data','example_input.csv'))\n",
    "    example_input = pd.read_csv(example_input_path, dtype=str)\n",
    "    \n",
    "    # Get the file names and their corresponding grades. \n",
    "    grades = example_input.iloc[:,16].astype(float)\n",
    "    \n",
    "    # Filter the data such that it only contains rows with grades of greater than 2.5. \n",
    "    indices = grades > 2.5\n",
    "    filtered_example_input = example_input[indices.values]\n",
    "    filtered_example_input = filtered_example_input.reset_index(drop=True)\n",
    "    \n",
    "    # Load in the example output data. \n",
    "    example_output_path = current_directory.replace('tests', os.path.join('data', 'example_output.csv'))\n",
    "    example_output = pd.read_csv(example_output_path, dtype=str)\n",
    "    \n",
    "    # Test to ensure that the newly filterd file and the example output file are identical. \n",
    "    assert filtered_example_input.equals(example_output), 'Testo'"
   ]
  }
 ],
 "metadata": {
  "kernelspec": {
   "display_name": "Python 3",
   "language": "python",
   "name": "python3"
  },
  "language_info": {
   "codemirror_mode": {
    "name": "ipython",
    "version": 3
   },
   "file_extension": ".py",
   "mimetype": "text/x-python",
   "name": "python",
   "nbconvert_exporter": "python",
   "pygments_lexer": "ipython3",
   "version": "3.7.9"
  }
 },
 "nbformat": 4,
 "nbformat_minor": 4
}
