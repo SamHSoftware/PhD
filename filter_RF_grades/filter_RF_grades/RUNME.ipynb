{
 "cells": [
  {
   "cell_type": "code",
   "execution_count": null,
   "metadata": {},
   "outputs": [],
   "source": [
    "# Import the necessary functions and packages.\n",
    "from filter_RF_grades import *\n",
    "\n",
    "# A function to allow the user to select the file they wish to analyse. \n",
    "# Function inputs args: None. \n",
    "# Function output 1: The file path of that which was selected by the user. \n",
    "file_path = file_selection_dialog()\n",
    "\n",
    "# A function to filter .xlsx data and make a new folder including grades 2.5 to 4, while excluding grades 1 to 2.5.\n",
    "# Function input arg 1: directory (string) --> The directory to the file containing the grading data. \n",
    "# Funciton output 1: A new folder including grades 2.5 to 4, while excluding classes 1 to 2.5. \n",
    "filter_classes(file_path)"
   ]
  }
 ],
 "metadata": {
  "kernelspec": {
   "display_name": "Python 3",
   "language": "python",
   "name": "python3"
  },
  "language_info": {
   "codemirror_mode": {
    "name": "ipython",
    "version": 3
   },
   "file_extension": ".py",
   "mimetype": "text/x-python",
   "name": "python",
   "nbconvert_exporter": "python",
   "pygments_lexer": "ipython3",
   "version": "3.7.9"
  }
 },
 "nbformat": 4,
 "nbformat_minor": 4
}
