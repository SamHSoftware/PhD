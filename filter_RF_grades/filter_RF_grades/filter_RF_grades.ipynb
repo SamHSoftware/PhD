{
 "cells": [
  {
   "cell_type": "code",
   "execution_count": null,
   "metadata": {},
   "outputs": [],
   "source": [
    "from tkinter import *\n",
    "from tkinter import filedialog\n",
    "\n",
    "# A function to allow the user to select the file they wish to analyse. \n",
    "# Function inputs args: None. \n",
    "# Function output 1: The file path of that which was selected by the user. \n",
    "def file_selection_dialog():\n",
    "    root = Tk()\n",
    "    root.title('Please select the file in question')\n",
    "    root.filename = filedialog.askopenfilename(initialdir=\"/\", title=\"Select A File\", filetypes=[(\"All files\", \"*.*\")])\n",
    "    file_path = root.filename\n",
    "    root.destroy()\n",
    "\n",
    "    return file_path"
   ]
  },
  {
   "cell_type": "code",
   "execution_count": 71,
   "metadata": {},
   "outputs": [],
   "source": [
    "import os \n",
    "import pandas as pd \n",
    "import re \n",
    "\n",
    "# A function to filter .xlsx data and make a new folder including grades 2.5 to 4, while excluding grades 1 to 2.5.\n",
    "# Function input arg 1: directory (string) --> The directory to the file containing the grading data. \n",
    "# Funciton output 1: A new folder including grades 2.5 to 4, while excluding classes 1 to 2.5. \n",
    "def filter_classes(file_path):\n",
    "        \n",
    "    # Import the .csv file. \n",
    "    data = pd.read_csv(file_path, dtype=str)\n",
    "    \n",
    "    # Get the file names and their corresponding grades. \n",
    "    grades = data.iloc[:,16].astype(float)\n",
    "    \n",
    "    # Filter the data such that it only contains rows with grades of greater than 2.5. \n",
    "    indices = grades > 2.5\n",
    "    filtered_data = data[indices.values]\n",
    "    \n",
    "    # Create a new file name with which we can save the filtered data. \n",
    "    path_start, path_end = os.path.split(file_path)\n",
    "    new_path = file_path.replace(path_end, 'filtered_by_grade')\n",
    "    filtered_data.to_c\n",
    "    \n",
    "    # Indicate that the script is complete. \n",
    "    print('Filtering complete.')"
   ]
  }
 ],
 "metadata": {
  "kernelspec": {
   "display_name": "Python 3",
   "language": "python",
   "name": "python3"
  },
  "language_info": {
   "codemirror_mode": {
    "name": "ipython",
    "version": 3
   },
   "file_extension": ".py",
   "mimetype": "text/x-python",
   "name": "python",
   "nbconvert_exporter": "python",
   "pygments_lexer": "ipython3",
   "version": "3.7.9"
  }
 },
 "nbformat": 4,
 "nbformat_minor": 4
}
