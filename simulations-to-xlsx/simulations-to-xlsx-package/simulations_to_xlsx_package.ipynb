{
 "cells": [
  {
   "cell_type": "code",
   "execution_count": null,
   "metadata": {},
   "outputs": [],
   "source": [
    "from tkinter import *\n",
    "from tkinter import filedialog\n",
    "\n",
    "# A function to allow the user to select the folder contianing the simulations.\n",
    "# Function inputs args: None. \n",
    "# Function output 1: The path of that the folder selected by the user. \n",
    "def folder_selection_dialog():\n",
    "    root = Tk()\n",
    "    root.title('Please select the directory containing the folders fo simulation data.')\n",
    "    root.filename = filedialog.askdirectory(initialdir=\"/\", title=\"Select A Folder\")\n",
    "    simulation_directory = root.filename\n",
    "    root.destroy()\n",
    "\n",
    "    return simulation_directory"
   ]
  },
  {
   "cell_type": "code",
   "execution_count": null,
   "metadata": {},
   "outputs": [],
   "source": [
    "import os \n",
    "\n",
    "# A Function to take simulation data pertaining to my PhD and convert it to usuable .xlsx data.\n",
    "# Funtion input arg 1: \n",
    "# Function output 1: \n",
    "def simluations_to_xlsx(simulation_directory):\n",
    "\n",
    "    # Get a list of the simulation folders. \n",
    "    folder_list = os.listdir(simulation_directory) \n",
    "    \n",
    "    # Loop through the simulation folders.\n",
    "    for n in len(folder_list):\n",
    "        \n",
    "        # Construct the folder path. \n",
    "        folder_path = os.path.join(simulation_directory, folder_list[n])\n",
    "        \n",
    "        # Get a list of all the files within the folder. \n",
    "        files = os.listdir(folder_path) \n",
    "        \n",
    "        # Loop through the individual simulation files and condense their information into a usable format. \n",
    "        for t in len(files):\n",
    "            \n",
    "    \n",
    "    "
   ]
  }
 ],
 "metadata": {
  "kernelspec": {
   "display_name": "Python 3",
   "language": "python",
   "name": "python3"
  },
  "language_info": {
   "codemirror_mode": {
    "name": "ipython",
    "version": 3
   },
   "file_extension": ".py",
   "mimetype": "text/x-python",
   "name": "python",
   "nbconvert_exporter": "python",
   "pygments_lexer": "ipython3",
   "version": "3.7.9"
  }
 },
 "nbformat": 4,
 "nbformat_minor": 4
}
