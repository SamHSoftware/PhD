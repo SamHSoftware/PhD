{
 "cells": [
  {
   "cell_type": "code",
   "execution_count": null,
   "metadata": {},
   "outputs": [],
   "source": [
    "# Import the necessary packages.\n",
    "from simulations_to_xlsx_functions import *\n",
    "\n",
    "# A function to allow the user to select the folder containing the simulations.\n",
    "# Function input args: none. \n",
    "# Function output 1: The path of the folder in question. \n",
    "simulation_directory = folder_selection_dialog()\n",
    "\n",
    "# A function to take simulation data pertaining to my PhD and convert it to usuable .xlsx data.\n",
    "# Funtion input arg 1: simulation_directory --> The directory containing the simulation folders. \n",
    "# Function output: A new directory (called 'simulations_xlsx') which contains the consensed model data.\n",
    "simluations_to_xlsx(simulation_directory)"
   ]
  }
 ],
 "metadata": {
  "kernelspec": {
   "display_name": "Python 3",
   "language": "python",
   "name": "python3"
  },
  "language_info": {
   "codemirror_mode": {
    "name": "ipython",
    "version": 3
   },
   "file_extension": ".py",
   "mimetype": "text/x-python",
   "name": "python",
   "nbconvert_exporter": "python",
   "pygments_lexer": "ipython3",
   "version": "3.7.9"
  }
 },
 "nbformat": 4,
 "nbformat_minor": 4
}
