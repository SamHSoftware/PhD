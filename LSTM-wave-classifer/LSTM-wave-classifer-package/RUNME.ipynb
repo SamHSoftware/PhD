{
 "cells": [
  {
   "cell_type": "code",
   "execution_count": null,
   "metadata": {},
   "outputs": [],
   "source": [
    "# Import the necessary packages.\n",
    "from LSTM_wave_classifier_functions import *\n",
    "\n",
    "# Select the training data.\n",
    "# Function inputs args: None. \n",
    "# Function output 1: The path of that the folder selected by the user. \n",
    "training_directory = folder_selection_dialog()\n",
    "\n",
    "# A function to extract and condense the relevant training data. \n",
    "# Function input arg 1: directory (string) --> The directory to the folder containing the .xlsx data.\n",
    "# Function input arg 2: train_or_classify (string) --> Use 'train', when collecting data to train the model. Use 'classify' when collecting data which needs to be classified.\n",
    "# Function output 1: df --> The pandas dataframe containing the training information.\n",
    "df = get_red_waves(directory,\n",
    "                   train_or_classify = 'train')\n",
    "\n",
    "# Train the LSTM model to recognise repetitive sequence data as having 'waves' or not. \n",
    "# Function inputs arg 1: df --> pandas dataframe as provided by the 'get_red_waevs()' function. \n",
    "# Function inputs arg 2: save_plot --> True or False. When True, saves plot to the img folder of the package. \n",
    "# Function inputs arg 3: display_plot --> True or False. When True, displays plot within conole. \n",
    "# Function output 1: The trained model.\n",
    "LSTM_model = train_LSTM(df,\n",
    "                        save_plot = False,\n",
    "                        display_plot = True):\n",
    "    \n",
    "# Select the folder containing the data which needs to be classified.\n",
    "# Function inputs args: None. \n",
    "# Function output 1: The path of that the folder selected by the user. \n",
    "classifiation_directory = folder_selection_dialog()\n",
    "\n",
    "# A function to take the trained LSTM model, and use it to classify our data. \n",
    "# Function input arg 1: directory [string] --> The directory containing the data which needs to be classified. \n",
    "# Function input arg 1: LSTM_model [bound method] --> The trained LSTM model from the 'train_LSTM' function. \n",
    "classify_waves(classifiation_directory,\n",
    "               LSTM_model = trained_model)\n"
   ]
  }
 ],
 "metadata": {
  "kernelspec": {
   "display_name": "Python 3",
   "language": "python",
   "name": "python3"
  },
  "language_info": {
   "codemirror_mode": {
    "name": "ipython",
    "version": 3
   },
   "file_extension": ".py",
   "mimetype": "text/x-python",
   "name": "python",
   "nbconvert_exporter": "python",
   "pygments_lexer": "ipython3",
   "version": "3.7.9"
  }
 },
 "nbformat": 4,
 "nbformat_minor": 4
}
