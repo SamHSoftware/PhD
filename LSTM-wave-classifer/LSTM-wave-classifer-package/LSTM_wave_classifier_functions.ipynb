{
 "cells": [
  {
   "cell_type": "code",
   "execution_count": null,
   "metadata": {},
   "outputs": [],
   "source": [
    "from tkinter import *\n",
    "from tkinter import filedialog\n",
    "\n",
    "# A function to allow the user to select the folder contianing the data.\n",
    "# Function inputs args: None. \n",
    "# Function output 1: The path of that the folder selected by the user. \n",
    "def folder_selection_dialog():\n",
    "    root = Tk()\n",
    "    root.title('Please select the directory containing the .xlsx files')\n",
    "    root.filename = filedialog.askdirectory(initialdir=\"/\", title=\"Select A Folder\")\n",
    "    directory = root.filename\n",
    "    root.destroy()\n",
    "\n",
    "    return directory"
   ]
  },
  {
   "cell_type": "code",
   "execution_count": 33,
   "metadata": {},
   "outputs": [],
   "source": [
    "import os \n",
    "import pandas as pd \n",
    "import numpy as np \n",
    "\n",
    "# A function to extract and condense the relevant data. \n",
    "# Function input arg 1: directory (string) --> The directory to the folder containing the .xlsx data.\n",
    "# Funciton output 1: \n",
    "def get_red_waves(directory):\n",
    "    \n",
    "    # Get a list of the .xlsx files. \n",
    "    files = [_ for _ in os.listdir(directory) if _.endswith('.xlsx')]\n",
    "\n",
    "    # Create a list to hold the data. \n",
    "    df = []\n",
    "\n",
    "    # Loop through the individual .xlsx files and extract the 'red' information. \n",
    "    for t in range(len(files)):\n",
    "\n",
    "        # Construct the file path. \n",
    "        file_t = os.path.join(directory, files[t])\n",
    "        \n",
    "        # Load in the .xlsx data. \n",
    "        data = pd.read_excel(file_t, index_col=None)\n",
    "        \n",
    "        # Delete all rows which are not of an even timepoint (hours). This is to standardize the time interval.\n",
    "        indices = 1 - data['Timepoint (hours)'] % 1\n",
    "        data = data[indices == 1]\n",
    "        \n",
    "        # Continue data extraction. \n",
    "        data = data.iloc[:,6]\n",
    "        data = data.values.tolist()\n",
    "        data.insert(0, files[t])\n",
    "        \n",
    "        # Aoppend the list of information to our array as a new row. \n",
    "        df.append(data)\n",
    "    \n",
    "    # Convert our array to a pandas dataframe. \n",
    "    df = pd.DataFrame(df)\n",
    "    \n",
    "    return df "
   ]
  },
  {
   "cell_type": "code",
   "execution_count": null,
   "metadata": {},
   "outputs": [],
   "source": [
    "\n",
    "\n",
    "# A function to train an LSTM model to recognise repetitive sequence data as having waves or not. \n",
    "def LSTM_model(df): "
   ]
  }
 ],
 "metadata": {
  "kernelspec": {
   "display_name": "Python 3",
   "language": "python",
   "name": "python3"
  },
  "language_info": {
   "codemirror_mode": {
    "name": "ipython",
    "version": 3
   },
   "file_extension": ".py",
   "mimetype": "text/x-python",
   "name": "python",
   "nbconvert_exporter": "python",
   "pygments_lexer": "ipython3",
   "version": "3.7.9"
  }
 },
 "nbformat": 4,
 "nbformat_minor": 4
}
