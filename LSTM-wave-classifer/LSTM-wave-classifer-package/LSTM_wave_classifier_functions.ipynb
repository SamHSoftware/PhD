{
 "cells": [
  {
   "cell_type": "code",
   "execution_count": null,
   "metadata": {},
   "outputs": [],
   "source": [
    "from tkinter import *\n",
    "from tkinter import filedialog\n",
    "\n",
    "# A function to allow the user to select the folder contianing the data.\n",
    "# Function inputs args: None. \n",
    "# Function output 1: The path of that the folder selected by the user. \n",
    "def folder_selection_dialog():\n",
    "    root = Tk()\n",
    "    root.title('Please select the directory containing the .xlsx files')\n",
    "    root.filename = filedialog.askdirectory(initialdir=\"/\", title=\"Select A Folder\")\n",
    "    directory = root.filename\n",
    "    root.destroy()\n",
    "\n",
    "    return directory"
   ]
  },
  {
   "cell_type": "code",
   "execution_count": 174,
   "metadata": {},
   "outputs": [
    {
     "ename": "SyntaxError",
     "evalue": "invalid syntax (<ipython-input-174-462de9d454af>, line 34)",
     "output_type": "error",
     "traceback": [
      "\u001b[1;36m  File \u001b[1;32m\"<ipython-input-174-462de9d454af>\"\u001b[1;36m, line \u001b[1;32m34\u001b[0m\n\u001b[1;33m    data.insert(0, files[t][])\u001b[0m\n\u001b[1;37m                            ^\u001b[0m\n\u001b[1;31mSyntaxError\u001b[0m\u001b[1;31m:\u001b[0m invalid syntax\n"
     ]
    }
   ],
   "source": [
    "import os \n",
    "import pandas as pd \n",
    "import numpy as np \n",
    "import re\n",
    "\n",
    "# A function to extract and condense the relevant data. \n",
    "# Function input arg 1: directory (string) --> The directory to the folder containing the .xlsx data.\n",
    "# Funciton output 1: df --> The pandas dataframe containing the training information.\n",
    "def get_red_waves(directory):\n",
    "    \n",
    "    # Get a list of the .xlsx files. \n",
    "    files = [_ for _ in os.listdir(directory) if _.endswith('.xlsx')]\n",
    "\n",
    "    # Create a list to hold the data. \n",
    "    df = []\n",
    "\n",
    "    # Loop through the individual .xlsx files and extract the 'red' information. \n",
    "    for t in range(len(files)):\n",
    "\n",
    "        # Construct the file path. \n",
    "        file_t = os.path.join(directory, files[t])\n",
    "        \n",
    "        # Load in the .xlsx data. \n",
    "        data = pd.read_excel(file_t, index_col=None)\n",
    "        \n",
    "        # Delete all rows which are not of an even timepoint (hours). This is to standardize the time interval.\n",
    "        indices = 1 - data.iloc[:,2] % 1\n",
    "        data = data[indices == 1]\n",
    "        \n",
    "        # Append the red data, the file name and the binary wave value. \n",
    "        data = data.iloc[:,6]\n",
    "        data = data.values.tolist()\n",
    "        data.insert(0, files[t])\n",
    "        \n",
    "        wave_value = re.search('_(\\d)\\.', files[t]).group(1)\n",
    "        data.insert(0, wave_value)\n",
    "        \n",
    "        # Aoppend the list of information to our array as a new row. \n",
    "        df.append(data)\n",
    "    \n",
    "    # Convert our array to a pandas dataframe. \n",
    "    df = pd.DataFrame(df)\n",
    "    df = df.fillna(0)\n",
    "    \n",
    "    return df "
   ]
  },
  {
   "cell_type": "code",
   "execution_count": null,
   "metadata": {},
   "outputs": [],
   "source": [
    "import torch\n",
    "import torch.nn as nn \n",
    "\n",
    "# A function to train an LSTM model to recognise repetitive sequence data as having waves or not. \n",
    "# Function inputs arg 1: df --> pandas dataframe as provided by the 'get_red_waevs()' function. \n",
    "# Function inputs arg 2: save_plot --> True or False. When True, saves plot to the img folder of the package. \n",
    "# Function inputs arg 3: display_plot --> True or False. When True, displays plot within conole. \n",
    "# Function output 1: \n",
    "def LSTM_model(df,\n",
    "              save_plot = True,\n",
    "              display_plot = True):\n",
    "\n",
    "    ##### (1) Load and prepare the data. \n",
    "    x = df.iloc[]"
   ]
  }
 ],
 "metadata": {
  "kernelspec": {
   "display_name": "Python 3",
   "language": "python",
   "name": "python3"
  },
  "language_info": {
   "codemirror_mode": {
    "name": "ipython",
    "version": 3
   },
   "file_extension": ".py",
   "mimetype": "text/x-python",
   "name": "python",
   "nbconvert_exporter": "python",
   "pygments_lexer": "ipython3",
   "version": "3.7.9"
  }
 },
 "nbformat": 4,
 "nbformat_minor": 4
}
